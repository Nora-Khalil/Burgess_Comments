{
 "cells": [
  {
   "cell_type": "code",
   "execution_count": 5,
   "id": "c3fd9242-f7e1-440a-ada6-ac61756ad163",
   "metadata": {},
   "outputs": [],
   "source": [
    "import os \n",
    "import re\n",
    "import matplotlib.pyplot as plt\n",
    "import rmgpy.chemkin\n",
    "import numpy as np\n",
    "import cantera as ct\n",
    "import pandas as pd\n",
    "%matplotlib inline\n",
    "\n"
   ]
  },
  {
   "cell_type": "code",
   "execution_count": 6,
   "id": "6fcdffa2-4f95-4fad-a7c7-f567bfcb0c56",
   "metadata": {},
   "outputs": [],
   "source": [
    "def load_chemkin_file(path): \n",
    "    \"\"\" \n",
    "    Load Chemkin file and extract the reactions and species.\n",
    "    Path should be the path to the species folder.\n",
    "    \"\"\"\n",
    "    \n",
    "    full_path = os.path.join(path,'chemkin')\n",
    "    chemkin_path = os.path.join(full_path,'copies', 'copy_chem_annotated.inp')\n",
    "   # chemkin_path = os.path.join(full_path,'chem_annotated.inp')\n",
    "    dictionary_path = os.path.join(full_path,'species_dictionary.txt')\n",
    "    transport_path = os.path.join(full_path,'tran.dat')\n",
    "\n",
    "    species_list, reaction_list = rmgpy.chemkin.load_chemkin_file(chemkin_path, dictionary_path=dictionary_path, transport_path=transport_path, check_duplicates=False)\n",
    "\n",
    "    return species_list, reaction_list"
   ]
  },
  {
   "cell_type": "code",
   "execution_count": 8,
   "id": "77861d28-7c94-4ca5-9f6b-e0cd47b36373",
   "metadata": {
    "scrolled": true,
    "tags": []
   },
   "outputs": [],
   "source": [
    "############# load the chemkin file and the cantera dataframe ################\n",
    "\n",
    "#file = 'sensitivites_copy_chem_annotated.cti.csv'\n",
    "#species_list, reaction_list = load_chemkin_file('/work/westgroup/nora/Code/projects/halogens/refrigerants/singles/Burgess_Comments/methane_with_added_2_BTP/cantera/Nora/2_BTP'\n",
    "#this is the same as below \n",
    "\n",
    "chemkin_path='/work/westgroup/nora/Code/projects/Burgess_Comments/2_BTP_optimization/models/RMG_NK/copy_chem_annotated.inp'\n",
    "dictionary_path='/work/westgroup/nora/Code/projects/Burgess_Comments/2_BTP_optimization/models/RMG_NK/species_dictionary.txt'\n",
    "transport_path='/work/westgroup/nora/Code/projects/Burgess_Comments/2_BTP_optimization/models/RMG_NK/tran.dat'\n",
    "\n",
    "\n",
    "species_list, reaction_list = rmgpy.chemkin.load_chemkin_file(chemkin_path, dictionary_path=dictionary_path, transport_path=transport_path,check_duplicates=False)\n",
    "df = pd.read_csv('/work/westgroup/nora/Code/projects/Burgess_Comments/2_BTP_optimization/sensitivity/NIST_with_Ms_sensitivity/2-BTP_kinetics_with_M.cti_sensitivities.csv')"
   ]
  },
  {
   "cell_type": "code",
   "execution_count": 9,
   "id": "d9bb085e-548a-4ff6-9a5d-c7393214d18b",
   "metadata": {},
   "outputs": [],
   "source": [
    "#we want to focus on the top ___ most sensitive reactions \n",
    "n = 15"
   ]
  },
  {
   "cell_type": "markdown",
   "id": "7d040641-3048-479c-8477-4f7ada1c9d6a",
   "metadata": {},
   "source": [
    "## flipping kinetics"
   ]
  },
  {
   "cell_type": "markdown",
   "id": "73f8f6cd-56ca-4246-b9b0-468995b4c82b",
   "metadata": {},
   "source": [
    "Using the sensitivity for NIST with Ms, lets find the most sensitive reactions in the 2-BTP NIST model and then change the kinetics of these reactions in RMG's 2_BTP model. "
   ]
  },
  {
   "cell_type": "code",
   "execution_count": 12,
   "id": "d9b15302-feb2-45a3-8dcb-dbca5b77d3e9",
   "metadata": {
    "tags": []
   },
   "outputs": [
    {
     "name": "stdout",
     "output_type": "stream",
     "text": [
      "O2(4) + H(8) <=> O(9) + OH(2)\n",
      "H + O2 <=> O + OH\n",
      "1\n",
      "***************************************************************\n",
      "BR(90) + HCO(17) <=> HBR(92) + CO(15)\n",
      "BR + HCO <=> CO + HBR\n",
      "746\n",
      "***************************************************************\n",
      "HCO(17) <=> H(8) + CO(15)\n",
      "HCO + M <=> CO + H + M\n",
      "33\n",
      "***************************************************************\n",
      "OH(2) + CO(15) <=> H(8) + CO2(16)\n",
      "CO + OH <=> CO2 + H\n",
      "30\n",
      "***************************************************************\n",
      "Could not find match for NIST reaction: H2O + HCO <=> CO + H + H2O\n",
      "**************************************\n",
      "O2(4) + H(8) <=> HO2(13)\n",
      "H + O2 (+M) <=> HO2 (+M)\n",
      "357\n",
      "***************************************************************\n",
      "H(8) + C2H2(23) <=> C2H3(29)\n",
      "C2H3 (+M) <=> C2H2 + H (+M)\n",
      "backwards, 374\n",
      "**************************************\n",
      "H(8) + HBR(92) <=> BR(90) + H2(10)\n",
      "H + HBR <=> BR + H2\n",
      "685\n",
      "***************************************************************\n",
      "O2(4) + CH2(T)(18) <=> H(8) + OH(2) + CO(15)\n",
      "CH2* + O2 <=> CO + H + OH\n",
      "58\n",
      "***************************************************************\n",
      "O2(4) + HCO(17) <=> HO2(13) + CO(15)\n",
      "HCO + O2 <=> CO + HO2\n",
      "38\n",
      "***************************************************************\n",
      "Could not find match for NIST reaction: CH2 + O2 <=> HCO + OH\n",
      "**************************************\n",
      "O(9) + CH3(19) <=> H(8) + CH2O(20)\n",
      "CH3 + O <=> CH2O + H\n",
      "91\n",
      "***************************************************************\n",
      "Could not find match for NIST reaction: BROH (+M) <=> BR + OH (+M)\n",
      "**************************************\n",
      "Could not find match for NIST reaction: CH2 + O2 <=> CO2 + 2 H\n",
      "**************************************\n",
      "H2O(5) <=> H(8) + OH(2)\n",
      "H + OH + M <=> H2O + M\n",
      "backwards, 13\n",
      "**************************************\n"
     ]
    }
   ],
   "source": [
    "#let's find a match for the Cantera reactions in sensitvity analysis and then flip them the RMG model to have NIST kinetics\n",
    "RMG_rxn_indices_matched = []\n",
    "for index,row in df.head(n).iterrows(): #Only iterate over the first n rows\n",
    "    \n",
    "\n",
    "    i=0 # counter, for assertion error later \n",
    "        \n",
    "    ct_index, sensitivity, ct_equation, ct_products, ct_reactants = row['k_s'], row['sensitivity'], row['cantera equation'], eval(row['cantera products']), eval(row['cantera reactants'])\n",
    "   \n",
    "    #list of all products in each reaction \n",
    "    list_of_products = [(k+',')*int(v) for k,v in ct_products.items()]   #use ',' as a marker for distinction between different species\n",
    "    products = set(list(filter(None, (''.join(list_of_products)).split(',')))) #now make all the products into a list. If two of the same species are listed as reactants, they should appear as two entries\n",
    "\n",
    "    #list of all reactants in each reaction \n",
    "    list_of_reactants = [(k+',')*int(v) for k,v in ct_reactants.items()]   #use ',' as a marker for distinction between different species\n",
    "    reactants= set(list(filter(None, (''.join(list_of_reactants)).split(',')))) #now make all the products into a list. If two of the same species are listed as reactants, they should appear as two entries\n",
    "\n",
    "    #print(products, reactants)\n",
    "    #iterate through rmg reactions and find the match to the cantera reaction\n",
    "    for index, rmg_rxn in enumerate(reaction_list): \n",
    "            \n",
    "                    \n",
    "            try: \n",
    "                rmg_reactants = set([i for i in rmg_rxn.to_cantera().reactants.keys()])\n",
    "                rmg_products = set([i for i in rmg_rxn.to_cantera().products.keys()])\n",
    "                \n",
    "                #to correct a difference in labeling between RMG and NIST. CH2(T) and CH2* are the same \n",
    "                if ('CH2*' in reactants) or ('CH2*' in products):  \n",
    "                    if 'CH2(T)' in rmg_reactants:\n",
    "                        rmg_reactants.remove('CH2(T)') \n",
    "                        rmg_reactants.add('CH2*')\n",
    "                    if 'CH2(T)'in rmg_products:\n",
    "                        rmg_products.remove('CH2(T)') \n",
    "                        rmg_products.add('CH2*')\n",
    "                        \n",
    "                if (reactants==rmg_reactants) and (products==rmg_products):\n",
    "                    rmg_rxn_to_be_changed=rmg_rxn\n",
    "                    print(rmg_rxn)\n",
    "                    print(ct_equation)\n",
    "                    print(rmg_rxn.index)\n",
    "                    RMG_rxn_indices_matched.append(rmg_rxn.index)\n",
    "                    print('***************************************************************')\n",
    "                    i += 1 #to check if match was found \n",
    "                    break\n",
    "                    \n",
    "                #if equation is written backwards \n",
    "                if (reactants==rmg_products) and (products==rmg_reactants):\n",
    "                    rmg_rxn_to_be_changed=rmg_rxn\n",
    "                    print(rmg_rxn)\n",
    "                    print(ct_equation)\n",
    "                    print(f'backwards, {rmg_rxn.index}')\n",
    "                    RMG_rxn_indices_matched.append(rmg_rxn.index)\n",
    "                    print('**************************************')\n",
    "                    i += 1 #to check if match was found \n",
    "                    break\n",
    "                \n",
    "            except AttributeError: #some of the rmg_rxn.to_cantera() is a list of rxns\n",
    "                for rxn in rmg_rxn.to_cantera(): \n",
    "                    rmg_reactants = set([i for i in rxn.to_cantera().reactants.keys()])\n",
    "                    rmg_products = set([i for i in rxn.to_cantera().products.keys()])\n",
    "                    \n",
    "                    if (reactants==rmg_reactants) and (products==rmg_products):\n",
    "                        rmg_rxn_to_be_changed=rmg_rxn\n",
    "                        print(rmg_rxn.index)\n",
    "                        RMG_rxn_indices_matched.append(rmg_rxn.index)\n",
    "                        i += 1 #to check if match was found \n",
    "                        break\n",
    "                        \n",
    "    \n",
    "    #if you can't find a match, tell me that \n",
    "    if i!=1:\n",
    "        print(f\"Could not find match for NIST reaction: {ct_equation}\")\n",
    "        print('**************************************')\n",
    "        \n",
    "        \n",
    "    #if you can find a match, make a new chemkin file with the RMG kinetics replaced by the NIST kinetics. \n",
    "    #NOTE: NOT PLAYING WITH THERMO\n",
    "    \n",
    "    #feel like this script will take too long, so will just change chemkins by hand. \n",
    "\n",
    "        \n",
    "        \n",
    "        \n",
    "   "
   ]
  },
  {
   "cell_type": "code",
   "execution_count": 13,
   "id": "8a3aa10a-bbc2-4afc-bbe5-17c3ed5794b2",
   "metadata": {},
   "outputs": [
    {
     "data": {
      "text/plain": [
       "[1, 746, 33, 30, 357, 374, 685, 58, 38, 91, 13]"
      ]
     },
     "execution_count": 13,
     "metadata": {},
     "output_type": "execute_result"
    }
   ],
   "source": [
    "RMG_rxn_indices_matched"
   ]
  },
  {
   "cell_type": "code",
   "execution_count": null,
   "id": "0b8a65dc-f12a-4db6-8d4a-060e091d2cb5",
   "metadata": {},
   "outputs": [],
   "source": []
  }
 ],
 "metadata": {
  "kernelspec": {
   "display_name": "rmg_env",
   "language": "python",
   "name": "rmg_env"
  },
  "language_info": {
   "codemirror_mode": {
    "name": "ipython",
    "version": 3
   },
   "file_extension": ".py",
   "mimetype": "text/x-python",
   "name": "python",
   "nbconvert_exporter": "python",
   "pygments_lexer": "ipython3",
   "version": "3.7.11"
  }
 },
 "nbformat": 4,
 "nbformat_minor": 5
}
