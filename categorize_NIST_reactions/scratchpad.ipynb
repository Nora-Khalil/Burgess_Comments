{
 "cells": [
  {
   "cell_type": "code",
   "execution_count": 1,
   "id": "5e639c8a-3096-41d7-8457-ae161ee7a01e",
   "metadata": {},
   "outputs": [],
   "source": [
    "reactant_structures = {'1,2_XY_interchange': [1, 1], '1,2_shiftS': [1, 1], '1,4_Linear_birad_scission': [1, 2], 'Cyclic_Thioether_Formation': [1, 2], 'Intra_RH_Add_Endocyclic': [1, 1], 'Intra_RH_Add_Exocyclic': [1, 1], 'Intra_R_Add_ExoTetCyclic': [1, 2], 'Intra_Retro_Diels_alder_bicyclic': [1, 1], 'Korcek_step1': [1, 1], 'Korcek_step1_cat': [2, 2], 'Korcek_step2': [1, 2], 'Surface_DoubleBond_to_Bidentate': [2, 1], 'intra_substitutionCS_cyclization': [1, 1], 'lone_electron_pair_bond': [1, 1], '1+2_Cycloaddition': [2, 1], '1,2-Birad_to_alkene': [1, 1], '1,2_Insertion_CO': [2, 1], '1,2_Insertion_carbene': [2, 1], '1,2_NH3_elimination': [1, 2], '1,2_shiftC': [1, 1], '1,3_Insertion_CO2': [2, 1], '1,3_Insertion_ROR': [2, 1], '1,3_Insertion_RSR': [2, 1], '1,3_NH3_elimination': [1, 2], '1,3_sigmatropic_rearrangement': [1, 1], '1,4_Cyclic_birad_scission': [1, 1], '2+2_cycloaddition': [2, 1], '6_membered_central_C-C_shift': [1, 1], 'Baeyer-Villiger_step1_cat': [3, 2], 'Baeyer-Villiger_step2': [1, 2], 'Baeyer-Villiger_step2_cat': [2, 3], 'Bimolec_Hydroperoxide_Decomposition': [2, 3], 'Birad_R_Recombination': [2, 1], 'Birad_recombination': [1, 1], 'Br_Abstraction': [2, 2], 'CO_Disproportionation': [2, 2], 'Cl_Abstraction': [2, 2], 'Concerted_Intra_Diels_alder_monocyclic_1,2_shiftH': [1, 1], 'Cyclic_Ether_Formation': [1, 2], 'Cyclopentadiene_scission': [1, 1], 'Diels_alder_addition': [2, 1], 'Diels_alder_addition_Aromatic': [2, 1], 'Disproportionation': [2, 2], 'Disproportionation-Y': [2, 2], 'F_Abstraction': [2, 2], 'H2_Loss': [1, 2], 'HO2_Elimination_from_PeroxyRadical': [1, 2], 'H_Abstraction': [2, 2], 'Intra_2+2_cycloaddition_Cd': [1, 1], 'Intra_5_membered_conjugated_C=C_C=C_addition': [1, 1], 'Intra_Diels_alder_monocyclic': [1, 1], 'Intra_Disproportionation': [1, 1], 'Intra_R_Add_Endocyclic': [1, 1], 'Intra_R_Add_Exo_scission': [1, 1], 'Intra_R_Add_Exocyclic': [1, 1], 'Intra_ene_reaction': [1, 1], 'Ketoenol': [1, 1], 'Peroxyl_Disproportionation': [2, 3], 'Peroxyl_Termination': [2, 3], 'R_Addition_COm': [2, 1], 'R_Addition_CSm': [2, 1], 'R_Addition_MultipleBond': [2, 1], 'R_Recombination': [2, 1], 'Retroene': [1, 2], 'Singlet_Carbene_Intra_Disproportionation': [1, 1], 'Singlet_Val6_to_triplet': [1, 1], 'SubstitutionS': [2, 2], 'Substitution_O': [2, 2], 'Surface_Abstraction': [2, 2], 'Surface_Abstraction_Beta': [2, 2], 'Surface_Abstraction_Beta_double_vdW': [2, 2], 'Surface_Abstraction_Single_vdW': [2, 2], 'Surface_Abstraction_vdW': [2, 2], 'Surface_Addition_Single_vdW': [2, 2], 'Surface_Adsorption_Abstraction_vdW': [2, 2], 'Surface_Adsorption_Bidentate': [3, 1], 'Surface_Adsorption_Dissociative': [3, 2], 'Surface_Adsorption_Dissociative_Double': [3, 2], 'Surface_Adsorption_Double': [2, 1], 'Surface_Adsorption_Single': [2, 1], 'Surface_Adsorption_vdW': [2, 1], 'Surface_Bidentate_Dissociation': [3, 1], 'Surface_Dissociation': [2, 2], 'Surface_Dissociation_Beta': [2, 2], 'Surface_Dissociation_Double_vdW': [2, 2], 'Surface_Dissociation_to_Bidentate': [3, 2], 'Surface_Dissociation_vdW': [2, 2], 'Surface_Dual_Adsorption_vdW': [2, 2], 'Surface_EleyRideal_Addition_Multiple_Bond': [2, 1], 'Surface_Migration': [1, 1], 'Surface_vdW_to_Bidentate': [2, 1], 'XY_Addition_MultipleBond': [2, 1], 'XY_elimination_hydroxyl': [1, 3], 'halocarbene_recombination': [2, 1], 'halocarbene_recombination_double': [2, 1], 'intra_H_migration': [1, 1], 'intra_NO2_ONO_conversion': [1, 1], 'intra_OH_migration': [1, 1], 'intra_halogen_migration': [1, 1], 'intra_substitutionCS_isomerization': [1, 1], 'intra_substitutionS_cyclization': [1, 2], 'intra_substitutionS_isomerization': [1, 1]}"
   ]
  },
  {
   "cell_type": "code",
   "execution_count": 8,
   "id": "f5ee8200-6e7c-4e37-97fc-b59ca7e901fc",
   "metadata": {},
   "outputs": [
    {
     "data": {
      "text/plain": [
       "{'1,2_XY_interchange': [],\n",
       " '1,2_shiftS': [],\n",
       " '1,4_Linear_birad_scission': [],\n",
       " 'Cyclic_Thioether_Formation': [],\n",
       " 'Intra_RH_Add_Endocyclic': [],\n",
       " 'Intra_RH_Add_Exocyclic': [],\n",
       " 'Intra_R_Add_ExoTetCyclic': [],\n",
       " 'Intra_Retro_Diels_alder_bicyclic': [],\n",
       " 'Korcek_step1': [],\n",
       " 'Korcek_step1_cat': [],\n",
       " 'Korcek_step2': [],\n",
       " 'Surface_DoubleBond_to_Bidentate': [],\n",
       " 'intra_substitutionCS_cyclization': [],\n",
       " 'lone_electron_pair_bond': [],\n",
       " '1+2_Cycloaddition': [],\n",
       " '1,2-Birad_to_alkene': [],\n",
       " '1,2_Insertion_CO': [],\n",
       " '1,2_Insertion_carbene': [],\n",
       " '1,2_NH3_elimination': [],\n",
       " '1,2_shiftC': [],\n",
       " '1,3_Insertion_CO2': [],\n",
       " '1,3_Insertion_ROR': [],\n",
       " '1,3_Insertion_RSR': [],\n",
       " '1,3_NH3_elimination': [],\n",
       " '1,3_sigmatropic_rearrangement': [],\n",
       " '1,4_Cyclic_birad_scission': [],\n",
       " '2+2_cycloaddition': [],\n",
       " '6_membered_central_C-C_shift': [],\n",
       " 'Baeyer-Villiger_step1_cat': [],\n",
       " 'Baeyer-Villiger_step2': [],\n",
       " 'Baeyer-Villiger_step2_cat': [],\n",
       " 'Bimolec_Hydroperoxide_Decomposition': [],\n",
       " 'Birad_R_Recombination': [],\n",
       " 'Birad_recombination': [],\n",
       " 'Br_Abstraction': [],\n",
       " 'CO_Disproportionation': [],\n",
       " 'Cl_Abstraction': [],\n",
       " 'Concerted_Intra_Diels_alder_monocyclic_1,2_shiftH': [],\n",
       " 'Cyclic_Ether_Formation': [],\n",
       " 'Cyclopentadiene_scission': [],\n",
       " 'Diels_alder_addition': [],\n",
       " 'Diels_alder_addition_Aromatic': [],\n",
       " 'Disproportionation': [],\n",
       " 'Disproportionation-Y': [],\n",
       " 'F_Abstraction': [],\n",
       " 'H2_Loss': [],\n",
       " 'HO2_Elimination_from_PeroxyRadical': [],\n",
       " 'H_Abstraction': [],\n",
       " 'Intra_2+2_cycloaddition_Cd': [],\n",
       " 'Intra_5_membered_conjugated_C=C_C=C_addition': [],\n",
       " 'Intra_Diels_alder_monocyclic': [],\n",
       " 'Intra_Disproportionation': [],\n",
       " 'Intra_R_Add_Endocyclic': [],\n",
       " 'Intra_R_Add_Exo_scission': [],\n",
       " 'Intra_R_Add_Exocyclic': [],\n",
       " 'Intra_ene_reaction': [],\n",
       " 'Ketoenol': [],\n",
       " 'Peroxyl_Disproportionation': [],\n",
       " 'Peroxyl_Termination': [],\n",
       " 'R_Addition_COm': [],\n",
       " 'R_Addition_CSm': [],\n",
       " 'R_Addition_MultipleBond': [],\n",
       " 'R_Recombination': [],\n",
       " 'Retroene': [],\n",
       " 'Singlet_Carbene_Intra_Disproportionation': [],\n",
       " 'Singlet_Val6_to_triplet': [],\n",
       " 'SubstitutionS': [],\n",
       " 'Substitution_O': [],\n",
       " 'Surface_Abstraction': [],\n",
       " 'Surface_Abstraction_Beta': [],\n",
       " 'Surface_Abstraction_Beta_double_vdW': [],\n",
       " 'Surface_Abstraction_Single_vdW': [],\n",
       " 'Surface_Abstraction_vdW': [],\n",
       " 'Surface_Addition_Single_vdW': [],\n",
       " 'Surface_Adsorption_Abstraction_vdW': [],\n",
       " 'Surface_Adsorption_Bidentate': [],\n",
       " 'Surface_Adsorption_Dissociative': [],\n",
       " 'Surface_Adsorption_Dissociative_Double': [],\n",
       " 'Surface_Adsorption_Double': [],\n",
       " 'Surface_Adsorption_Single': [],\n",
       " 'Surface_Adsorption_vdW': [],\n",
       " 'Surface_Bidentate_Dissociation': [],\n",
       " 'Surface_Dissociation': [],\n",
       " 'Surface_Dissociation_Beta': [],\n",
       " 'Surface_Dissociation_Double_vdW': [],\n",
       " 'Surface_Dissociation_to_Bidentate': [],\n",
       " 'Surface_Dissociation_vdW': [],\n",
       " 'Surface_Dual_Adsorption_vdW': [],\n",
       " 'Surface_EleyRideal_Addition_Multiple_Bond': [],\n",
       " 'Surface_Migration': [],\n",
       " 'Surface_vdW_to_Bidentate': [],\n",
       " 'XY_Addition_MultipleBond': [],\n",
       " 'XY_elimination_hydroxyl': [],\n",
       " 'halocarbene_recombination': [],\n",
       " 'halocarbene_recombination_double': [],\n",
       " 'intra_H_migration': [],\n",
       " 'intra_NO2_ONO_conversion': [],\n",
       " 'intra_OH_migration': [],\n",
       " 'intra_halogen_migration': [],\n",
       " 'intra_substitutionCS_isomerization': [],\n",
       " 'intra_substitutionS_cyclization': [],\n",
       " 'intra_substitutionS_isomerization': []}"
      ]
     },
     "execution_count": 8,
     "metadata": {},
     "output_type": "execute_result"
    }
   ],
   "source": [
    "NIST_families = dict()\n",
    "\n",
    "for i in reactant_structures.keys():\n",
    "    NIST_families[i] = []\n",
    "    \n",
    "NIST_families"
   ]
  },
  {
   "cell_type": "code",
   "execution_count": 4,
   "id": "2569335d-0d71-4af0-a806-b007bbfe677d",
   "metadata": {},
   "outputs": [],
   "source": [
    "NIST_families = \\\n",
    "{'1,2_XY_interchange': 0, '1,2_shiftS': 0, '1,4_Linear_birad_scission': 0, 'Cyclic_Thioether_Formation': 0, 'Intra_RH_Add_Endocyclic': 0, 'Intra_RH_Add_Exocyclic': 0, 'Intra_R_Add_ExoTetCyclic': 0, 'Intra_Retro_Diels_alder_bicyclic': 0, 'Korcek_step1': 0, 'Korcek_step1_cat': 0, 'Korcek_step2': 0, 'Surface_DoubleBond_to_Bidentate': 0, 'intra_substitutionCS_cyclization': 0, 'lone_electron_pair_bond': 0, '1+2_Cycloaddition': 0, '1,2-Birad_to_alkene': 0, '1,2_Insertion_CO': 1, '1,2_Insertion_carbene': 0, '1,2_NH3_elimination': 0, '1,2_shiftC': 0, '1,3_Insertion_CO2': 0, '1,3_Insertion_ROR': 0, '1,3_Insertion_RSR': 0, '1,3_NH3_elimination': 0, '1,3_sigmatropic_rearrangement': 1, '1,4_Cyclic_birad_scission': 0, '2+2_cycloaddition': 0, '6_membered_central_C-C_shift': 0, 'Baeyer-Villiger_step1_cat': 0, 'Baeyer-Villiger_step2': 0, 'Baeyer-Villiger_step2_cat': 0, 'Bimolec_Hydroperoxide_Decomposition': 0, 'Birad_R_Recombination': 4, 'Birad_recombination': 0, 'Br_Abstraction': 30, 'CO_Disproportionation': 27, 'Cl_Abstraction': 0, 'Concerted_Intra_Diels_alder_monocyclic_1,2_shiftH': 0, 'Cyclic_Ether_Formation': 0, 'Cyclopentadiene_scission': 0, 'Diels_alder_addition': 0, 'Diels_alder_addition_Aromatic': 0, 'Disproportionation': 119, 'Disproportionation-Y': 14, 'F_Abstraction': 15, 'H2_Loss': 0, 'HO2_Elimination_from_PeroxyRadical': 0, 'H_Abstraction': 495, 'Intra_2+2_cycloaddition_Cd': 0, 'Intra_5_membered_conjugated_C=C_C=C_addition': 0, 'Intra_Diels_alder_monocyclic': 0, 'Intra_Disproportionation': 0, 'Intra_R_Add_Endocyclic': 0, 'Intra_R_Add_Exo_scission': 0, 'Intra_R_Add_Exocyclic': 0, 'Intra_ene_reaction': 0, 'Ketoenol': 0, 'Peroxyl_Disproportionation': 0, 'Peroxyl_Termination': 0, 'R_Addition_COm': 1, 'R_Addition_CSm': 0, 'R_Addition_MultipleBond': 45, 'R_Recombination': 88, 'Retroene': 0, 'Singlet_Carbene_Intra_Disproportionation': 0, 'Singlet_Val6_to_triplet': 0, 'SubstitutionS': 0, 'Substitution_O': 3, 'Surface_Abstraction': 0, 'Surface_Abstraction_Beta': 0, 'Surface_Abstraction_Beta_double_vdW': 0, 'Surface_Abstraction_Single_vdW': 0, 'Surface_Abstraction_vdW': 0, 'Surface_Addition_Single_vdW': 0, 'Surface_Adsorption_Abstraction_vdW': 0, 'Surface_Adsorption_Bidentate': 0, 'Surface_Adsorption_Dissociative': 0, 'Surface_Adsorption_Dissociative_Double': 0, 'Surface_Adsorption_Double': 0, 'Surface_Adsorption_Single': 0, 'Surface_Adsorption_vdW': 0, 'Surface_Bidentate_Dissociation': 0, 'Surface_Dissociation': 0, 'Surface_Dissociation_Beta': 0, 'Surface_Dissociation_Double_vdW': 0, 'Surface_Dissociation_to_Bidentate': 0, 'Surface_Dissociation_vdW': 0, 'Surface_Dual_Adsorption_vdW': 0, 'Surface_EleyRideal_Addition_Multiple_Bond': 0, 'Surface_Migration': 0, 'Surface_vdW_to_Bidentate': 0, 'XY_Addition_MultipleBond': 1, 'XY_elimination_hydroxyl': 0, 'halocarbene_recombination': 0, 'halocarbene_recombination_double': 0, 'intra_H_migration': 6, 'intra_NO2_ONO_conversion': 0, 'intra_OH_migration': 0, 'intra_halogen_migration': 0, 'intra_substitutionCS_isomerization': 0, 'intra_substitutionS_cyclization': 0, 'intra_substitutionS_isomerization': 0}"
   ]
  },
  {
   "cell_type": "code",
   "execution_count": 7,
   "id": "1d1056ba-dcee-42c9-b3c9-123a5070298a",
   "metadata": {},
   "outputs": [
    {
     "name": "stdout",
     "output_type": "stream",
     "text": [
      "1,2_Insertion_CO 1\n",
      "1,3_sigmatropic_rearrangement 1\n",
      "Birad_R_Recombination 4\n",
      "Br_Abstraction 30\n",
      "CO_Disproportionation 27\n",
      "Disproportionation 119\n",
      "Disproportionation-Y 14\n",
      "F_Abstraction 15\n",
      "H_Abstraction 495\n",
      "R_Addition_COm 1\n",
      "R_Addition_MultipleBond 45\n",
      "R_Recombination 88\n",
      "Substitution_O 3\n",
      "XY_Addition_MultipleBond 1\n",
      "intra_H_migration 6\n"
     ]
    }
   ],
   "source": [
    "for key, value in NIST_families.items(): \n",
    "    if value != 0: \n",
    "        print(key, value)"
   ]
  }
 ],
 "metadata": {
  "kernelspec": {
   "display_name": "Python 3",
   "language": "python",
   "name": "python3"
  },
  "language_info": {
   "codemirror_mode": {
    "name": "ipython",
    "version": 3
   },
   "file_extension": ".py",
   "mimetype": "text/x-python",
   "name": "python",
   "nbconvert_exporter": "python",
   "pygments_lexer": "ipython3",
   "version": "3.8.8"
  }
 },
 "nbformat": 4,
 "nbformat_minor": 5
}
